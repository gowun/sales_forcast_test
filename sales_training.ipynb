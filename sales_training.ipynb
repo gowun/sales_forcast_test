{
 "cells": [
  {
   "cell_type": "code",
   "execution_count": null,
   "id": "e8657cd5-bc4b-41bc-87f9-84c5c24e8f59",
   "metadata": {
    "tags": []
   },
   "outputs": [],
   "source": [
    "%%time\n",
    "\n",
    "import os\n",
    "from sales_forecasting_model import *\n",
    "from skt.vault_utils import get_secrets\n",
    "\n",
    "user = os.environ['USER']\n",
    "proxy = get_secrets(\"proxy\")[\"proxy\"]\n",
    "os.environ['HTTP_PROXY'] = proxy\n",
    "os.environ['HTTPS_PROXY'] = proxy\n",
    "os.environ[\"TOKENIZERS_PARALLELISM\"] = \"false\"\n",
    "\n",
    "model_type = 'gru'\n",
    "\n",
    "cases = [\n",
    "    [False, True], [True, True]\n",
    "]\n",
    "\n",
    "for item in range(10, 51):\n",
    "    for use_bert, add_total in cases:\n",
    "        dict_args = {\n",
    "            'auto_lr_find': True,\n",
    "            'gradient_clip_val': 1.0,\n",
    "            'accelerator': 'dp',\n",
    "            'strategy': 'dp',\n",
    "            'amp_backend': 'apex', \n",
    "            'amp_level': 'O2',\n",
    "            'accumulate_grad_batches': 8,\n",
    "\n",
    "            'seed': 1234, \n",
    "            'workers': 2,\n",
    "            'max_length': 32,\n",
    "            'batch_size': 32,\n",
    "            'max_epochs': 100,\n",
    "            'lr': 0.002, \n",
    "\n",
    "            'gpus': -1,\n",
    "            #'gpu_list': '2;3', \n",
    "            'train_file': f'sales_data/train_items/Item{item}.json',\n",
    "            'val_file': f'sales_data/val_items/Item{item}.json',\n",
    "            'test_file': f'sales_data/test_items/Item{item}.json',\n",
    "\n",
    "            'item': item,\n",
    "            'transformer_path': 'sales_data/power_transformer.pkl',\n",
    "            'model_type': model_type, \n",
    "            'input_dim': 10,\n",
    "            'output_dim': 10,\n",
    "            'hidden_dim': 20,\n",
    "            'n_seq': 7,\n",
    "            'drop_prob': 0.2,\n",
    "            'use_bert': use_bert,\n",
    "            'add_total': add_total\n",
    "        }\n",
    "        train(dict_args)\n",
    "        #case_name = f'item{item}_{model_type}_bert{use_bert}_total{add_total}_{dict_args[\"lr\"]}_{dict_args[\"seed\"]}'\n",
    "        #evaluate_models(f'/home/{user}/logs_{case_name}')"
   ]
  },
  {
   "cell_type": "code",
   "execution_count": null,
   "id": "75ccc760-bd1c-4364-89df-c54cfa749123",
   "metadata": {},
   "outputs": [],
   "source": []
  }
 ],
 "metadata": {
  "kernelspec": {
   "display_name": "Python 3 (ipykernel)",
   "language": "python",
   "name": "python3"
  },
  "language_info": {
   "codemirror_mode": {
    "name": "ipython",
    "version": 3
   },
   "file_extension": ".py",
   "mimetype": "text/x-python",
   "name": "python",
   "nbconvert_exporter": "python",
   "pygments_lexer": "ipython3",
   "version": "3.8.12"
  }
 },
 "nbformat": 4,
 "nbformat_minor": 5
}
