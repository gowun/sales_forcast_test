{
 "cells": [
  {
   "cell_type": "code",
   "execution_count": null,
   "id": "e8657cd5-bc4b-41bc-87f9-84c5c24e8f59",
   "metadata": {
    "tags": []
   },
   "outputs": [],
   "source": [
    "%%time\n",
    "\n",
    "import os\n",
    "from pretraining_bert import *\n",
    "from skt.vault_utils import get_secrets\n",
    "\n",
    "user = os.environ['USER']\n",
    "proxy = get_secrets(\"proxy\")[\"proxy\"]\n",
    "os.environ['HTTP_PROXY'] = proxy\n",
    "os.environ['HTTPS_PROXY'] = proxy\n",
    "os.environ[\"TOKENIZERS_PARALLELISM\"] = \"false\"\n",
    "\n",
    "dict_args = {\n",
    "    'auto_lr_find': True,\n",
    "    'gradient_clip_val': 1.0,\n",
    "    'accelerator': 'dp',\n",
    "    'strategy': 'dp',\n",
    "    'amp_backend': 'apex', \n",
    "    'amp_level': 'O2',\n",
    "    'accumulate_grad_batches': 8,\n",
    "    \n",
    "    'seed': 1234, \n",
    "    'model_name_or_path': \"monologg/koelectra-base-v3-generator\",\n",
    "    \n",
    "    'workers': 2,\n",
    "    'max_length': 32,\n",
    "    'batch_size': 128,\n",
    "    'max_epochs': 100,\n",
    "    \n",
    "    #'gpus': -1,\n",
    "    'gpu_list': '2;3', \n",
    "    'target': 'seq_cnv', \n",
    "    'train_file': 'train_bert_data/train_7days.csv',\n",
    "    'val_file': 'train_bert_data/val_7days.csv',\n",
    "    'test_file': 'train_bert_data/test_7days.csv',\n",
    "    'mlm_probability': 0.15,\n",
    "}\n",
    "pretrain(dict_args)"
   ]
  },
  {
   "cell_type": "code",
   "execution_count": null,
   "id": "cbb0b11b-9652-48f9-be19-b13418eba0a3",
   "metadata": {
    "tags": []
   },
   "outputs": [],
   "source": [
    "evaluate_models(f'/home/{user}/logs_{dict_args[\"model_name_or_path\"].split(\"/\")[-1]}_{dict_args[\"target\"]}_{dict_args[\"mlm_probability\"]}_{dict_args[\"seed\"]}')"
   ]
  }
 ],
 "metadata": {
  "kernelspec": {
   "display_name": "Python 3 (ipykernel)",
   "language": "python",
   "name": "python3"
  },
  "language_info": {
   "codemirror_mode": {
    "name": "ipython",
    "version": 3
   },
   "file_extension": ".py",
   "mimetype": "text/x-python",
   "name": "python",
   "nbconvert_exporter": "python",
   "pygments_lexer": "ipython3",
   "version": "3.8.12"
  }
 },
 "nbformat": 4,
 "nbformat_minor": 5
}
