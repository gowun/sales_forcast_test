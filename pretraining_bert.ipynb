{
 "cells": [
  {
   "cell_type": "code",
   "execution_count": null,
   "id": "e8657cd5-bc4b-41bc-87f9-84c5c24e8f59",
   "metadata": {
    "execution": {
     "iopub.execute_input": "2023-09-05T00:05:32.176330Z",
     "iopub.status.busy": "2023-09-05T00:05:32.175638Z"
    },
    "tags": []
   },
   "outputs": [
    {
     "name": "stderr",
     "output_type": "stream",
     "text": [
      "2023-09-05 09:05:34.468665: I tensorflow/stream_executor/platform/default/dso_loader.cc:53] Successfully opened dynamic library libcudart.so.11.0\n",
      "INFO:root:Namespace(accelerator='dp', accumulate_grad_batches=8, amp_backend='apex', amp_level='O2', auto_lr_find=True, auto_scale_batch_size=False, auto_select_gpus=False, automatic_optimization=None, batch_size=128, benchmark=False, check_val_every_n_epoch=1, checkpoint_callback=True, default_root_dir=None, deterministic=False, distributed_backend=None, enable_pl_optimizer=True, f='/home/x1112283/.local/share/jupyter/runtime/kernel-f80543da-307a-451d-9a25-be0edf9e43a0.json', fast_dev_run=False, flush_logs_every_n_steps=100, gpu_list='0;1', gpus=[0, 1], gradient_clip_val=1.0, limit_test_batches=1.0, limit_train_batches=1.0, limit_val_batches=1.0, log_every_n_steps=50, log_filepath='/home/x1112283/logs_koelectra-small-v3-generator_seq_cnv_0.15_1234/performance_log.txt', log_gpu_memory=None, logger=True, lr=5e-05, max_epochs=100, max_length=32, max_steps=None, min_epochs=1, min_steps=None, mlm_probability=0.15, model_name_or_path='monologg/koelectra-small-v3-generator', move_metrics_to_cpu=False, num_nodes=1, num_processes=1, num_sanity_val_steps=2, overfit_batches=0.0, overwrite_cache=False, plugins=None, precision=32, prepare_data_per_node=True, process_position=0, profiler=None, progress_bar_refresh_rate=1, reload_dataloaders_every_epoch=False, replace_sampler_ddp=True, resume_from_checkpoint=None, root_dir='/home/x1112283/logs_koelectra-small-v3-generator_seq_cnv_0.15_1234', seed=1234, strategy='dp', sync_batchnorm=False, target='seq_cnv', terminate_on_nan=False, test_file='train_bert_data/test_7days.csv', tpu_cores=<function _gpus_arg_default at 0x7ff56facd670>, track_grad_norm=-1, train_file='train_bert_data/train_7days.csv', truncated_bptt_steps=None, val_check_interval=1.0, val_file='train_bert_data/val_7days.csv', warmup_ratio=0.1, weights_save_path=None, weights_summary='top', workers=2)\n"
     ]
    },
    {
     "data": {
      "application/vnd.jupyter.widget-view+json": {
       "model_id": "efbdae02b44340479125160433e1a761",
       "version_major": 2,
       "version_minor": 0
      },
      "text/plain": [
       "Downloading:   0%|          | 0.00/455 [00:00<?, ?B/s]"
      ]
     },
     "metadata": {},
     "output_type": "display_data"
    },
    {
     "data": {
      "application/vnd.jupyter.widget-view+json": {
       "model_id": "6a4e23e5bcc440d391add12776938249",
       "version_major": 2,
       "version_minor": 0
      },
      "text/plain": [
       "Downloading:   0%|          | 0.00/263k [00:00<?, ?B/s]"
      ]
     },
     "metadata": {},
     "output_type": "display_data"
    },
    {
     "data": {
      "application/vnd.jupyter.widget-view+json": {
       "model_id": "335bc224f0ea49ff80c288965706aebb",
       "version_major": 2,
       "version_minor": 0
      },
      "text/plain": [
       "Downloading:   0%|          | 0.00/61.0 [00:00<?, ?B/s]"
      ]
     },
     "metadata": {},
     "output_type": "display_data"
    },
    {
     "name": "stderr",
     "output_type": "stream",
     "text": [
      "WARNING:urllib3.connection:Certificate did not match expected hostname: s3.amazonaws.com. Certificate: {'subject': ((('commonName', 's3.ap-northeast-2.amazonaws.com'),),), 'issuer': ((('countryName', 'US'),), (('organizationName', 'Amazon'),), (('commonName', 'Amazon RSA 2048 M02'),)), 'version': 3, 'serialNumber': '0278AB6FC801909AD4B43E2AF691421C', 'notBefore': 'Jan 11 00:00:00 2023 GMT', 'notAfter': 'Feb  9 23:59:59 2024 GMT', 'subjectAltName': (('DNS', 's3.ap-northeast-2.amazonaws.com'), ('DNS', 'bucket.vpce-034ab43afc24e7a7d-ha2lf469-ap-northeast-2b.s3.ap-northeast-2.vpce.amazonaws.com'), ('DNS', '*.bucket.vpce-034ab43afc24e7a7d-ha2lf469-ap-northeast-2c.s3.ap-northeast-2.vpce.amazonaws.com'), ('DNS', '*.accesspoint.vpce-034ab43afc24e7a7d-ha2lf469-ap-northeast-2c.s3.ap-northeast-2.vpce.amazonaws.com'), ('DNS', '*.control.vpce-034ab43afc24e7a7d-ha2lf469-ap-northeast-2b.s3.ap-northeast-2.vpce.amazonaws.com'), ('DNS', '*.control.vpce-034ab43afc24e7a7d-ha2lf469-ap-northeast-2d.s3.ap-northeast-2.vpce.amazonaws.com'), ('DNS', '*.bucket.vpce-034ab43afc24e7a7d-ha2lf469-ap-northeast-2a.s3.ap-northeast-2.vpce.amazonaws.com'), ('DNS', 'bucket.vpce-034ab43afc24e7a7d-ha2lf469-ap-northeast-2d.s3.ap-northeast-2.vpce.amazonaws.com'), ('DNS', '*.control.vpce-034ab43afc24e7a7d-ha2lf469-ap-northeast-2a.s3.ap-northeast-2.vpce.amazonaws.com'), ('DNS', '*.bucket.vpce-034ab43afc24e7a7d-ha2lf469.s3.ap-northeast-2.vpce.amazonaws.com'), ('DNS', '*.s3.ap-northeast-2.amazonaws.com'), ('DNS', '*.accesspoint.vpce-034ab43afc24e7a7d-ha2lf469-ap-northeast-2b.s3.ap-northeast-2.vpce.amazonaws.com'), ('DNS', 'bucket.vpce-034ab43afc24e7a7d-ha2lf469-ap-northeast-2a.s3.ap-northeast-2.vpce.amazonaws.com'), ('DNS', '*.bucket.vpce-034ab43afc24e7a7d-ha2lf469-ap-northeast-2d.s3.ap-northeast-2.vpce.amazonaws.com'), ('DNS', '*.control.vpce-034ab43afc24e7a7d-ha2lf469-ap-northeast-2c.s3.ap-northeast-2.vpce.amazonaws.com'), ('DNS', '*.bucket.vpce-034ab43afc24e7a7d-ha2lf469-ap-northeast-2b.s3.ap-northeast-2.vpce.amazonaws.com'), ('DNS', 'bucket.vpce-034ab43afc24e7a7d-ha2lf469-ap-northeast-2c.s3.ap-northeast-2.vpce.amazonaws.com'), ('DNS', '*.s3-accesspoint.ap-northeast-2.amazonaws.com'), ('DNS', '*.accesspoint.vpce-034ab43afc24e7a7d-ha2lf469-ap-northeast-2d.s3.ap-northeast-2.vpce.amazonaws.com'), ('DNS', '*.s3-control.ap-northeast-2.amazonaws.com'), ('DNS', '*.accesspoint.vpce-034ab43afc24e7a7d-ha2lf469.s3.ap-northeast-2.vpce.amazonaws.com'), ('DNS', '*.accesspoint.vpce-034ab43afc24e7a7d-ha2lf469-ap-northeast-2a.s3.ap-northeast-2.vpce.amazonaws.com'), ('DNS', '*.control.vpce-034ab43afc24e7a7d-ha2lf469.s3.ap-northeast-2.vpce.amazonaws.com'), ('DNS', 'bucket.vpce-034ab43afc24e7a7d-ha2lf469.s3.ap-northeast-2.vpce.amazonaws.com')), 'OCSP': ('http://ocsp.r2m02.amazontrust.com',), 'caIssuers': ('http://crt.r2m02.amazontrust.com/r2m02.cer',), 'crlDistributionPoints': ('http://crl.r2m02.amazontrust.com/r2m02.crl',)}\n",
      "WARNING:urllib3.connection:Certificate did not match expected hostname: s3.amazonaws.com. Certificate: {'subject': ((('commonName', 's3.ap-northeast-2.amazonaws.com'),),), 'issuer': ((('countryName', 'US'),), (('organizationName', 'Amazon'),), (('commonName', 'Amazon RSA 2048 M02'),)), 'version': 3, 'serialNumber': '0278AB6FC801909AD4B43E2AF691421C', 'notBefore': 'Jan 11 00:00:00 2023 GMT', 'notAfter': 'Feb  9 23:59:59 2024 GMT', 'subjectAltName': (('DNS', 's3.ap-northeast-2.amazonaws.com'), ('DNS', 'bucket.vpce-034ab43afc24e7a7d-ha2lf469-ap-northeast-2b.s3.ap-northeast-2.vpce.amazonaws.com'), ('DNS', '*.bucket.vpce-034ab43afc24e7a7d-ha2lf469-ap-northeast-2c.s3.ap-northeast-2.vpce.amazonaws.com'), ('DNS', '*.accesspoint.vpce-034ab43afc24e7a7d-ha2lf469-ap-northeast-2c.s3.ap-northeast-2.vpce.amazonaws.com'), ('DNS', '*.control.vpce-034ab43afc24e7a7d-ha2lf469-ap-northeast-2b.s3.ap-northeast-2.vpce.amazonaws.com'), ('DNS', '*.control.vpce-034ab43afc24e7a7d-ha2lf469-ap-northeast-2d.s3.ap-northeast-2.vpce.amazonaws.com'), ('DNS', '*.bucket.vpce-034ab43afc24e7a7d-ha2lf469-ap-northeast-2a.s3.ap-northeast-2.vpce.amazonaws.com'), ('DNS', 'bucket.vpce-034ab43afc24e7a7d-ha2lf469-ap-northeast-2d.s3.ap-northeast-2.vpce.amazonaws.com'), ('DNS', '*.control.vpce-034ab43afc24e7a7d-ha2lf469-ap-northeast-2a.s3.ap-northeast-2.vpce.amazonaws.com'), ('DNS', '*.bucket.vpce-034ab43afc24e7a7d-ha2lf469.s3.ap-northeast-2.vpce.amazonaws.com'), ('DNS', '*.s3.ap-northeast-2.amazonaws.com'), ('DNS', '*.accesspoint.vpce-034ab43afc24e7a7d-ha2lf469-ap-northeast-2b.s3.ap-northeast-2.vpce.amazonaws.com'), ('DNS', 'bucket.vpce-034ab43afc24e7a7d-ha2lf469-ap-northeast-2a.s3.ap-northeast-2.vpce.amazonaws.com'), ('DNS', '*.bucket.vpce-034ab43afc24e7a7d-ha2lf469-ap-northeast-2d.s3.ap-northeast-2.vpce.amazonaws.com'), ('DNS', '*.control.vpce-034ab43afc24e7a7d-ha2lf469-ap-northeast-2c.s3.ap-northeast-2.vpce.amazonaws.com'), ('DNS', '*.bucket.vpce-034ab43afc24e7a7d-ha2lf469-ap-northeast-2b.s3.ap-northeast-2.vpce.amazonaws.com'), ('DNS', 'bucket.vpce-034ab43afc24e7a7d-ha2lf469-ap-northeast-2c.s3.ap-northeast-2.vpce.amazonaws.com'), ('DNS', '*.s3-accesspoint.ap-northeast-2.amazonaws.com'), ('DNS', '*.accesspoint.vpce-034ab43afc24e7a7d-ha2lf469-ap-northeast-2d.s3.ap-northeast-2.vpce.amazonaws.com'), ('DNS', '*.s3-control.ap-northeast-2.amazonaws.com'), ('DNS', '*.accesspoint.vpce-034ab43afc24e7a7d-ha2lf469.s3.ap-northeast-2.vpce.amazonaws.com'), ('DNS', '*.accesspoint.vpce-034ab43afc24e7a7d-ha2lf469-ap-northeast-2a.s3.ap-northeast-2.vpce.amazonaws.com'), ('DNS', '*.control.vpce-034ab43afc24e7a7d-ha2lf469.s3.ap-northeast-2.vpce.amazonaws.com'), ('DNS', 'bucket.vpce-034ab43afc24e7a7d-ha2lf469.s3.ap-northeast-2.vpce.amazonaws.com')), 'OCSP': ('http://ocsp.r2m02.amazontrust.com',), 'caIssuers': ('http://crt.r2m02.amazontrust.com/r2m02.cer',), 'crlDistributionPoints': ('http://crl.r2m02.amazontrust.com/r2m02.crl',)}\n"
     ]
    },
    {
     "data": {
      "application/vnd.jupyter.widget-view+json": {
       "model_id": "3ab29e52543d464093665c00b9d2bd13",
       "version_major": 2,
       "version_minor": 0
      },
      "text/plain": [
       "Map (num_proc=2):   0%|          | 0/492750 [00:00<?, ? examples/s]"
      ]
     },
     "metadata": {},
     "output_type": "display_data"
    },
    {
     "data": {
      "application/vnd.jupyter.widget-view+json": {
       "model_id": "5ba259b1ec474e4491f79cce701bce9e",
       "version_major": 2,
       "version_minor": 0
      },
      "text/plain": [
       "Map (num_proc=2):   0%|          | 0/54750 [00:00<?, ? examples/s]"
      ]
     },
     "metadata": {},
     "output_type": "display_data"
    },
    {
     "data": {
      "application/vnd.jupyter.widget-view+json": {
       "model_id": "f258b513e27144e19e0e58538ce48537",
       "version_major": 2,
       "version_minor": 0
      },
      "text/plain": [
       "Map:   0%|          | 0/362000 [00:00<?, ? examples/s]"
      ]
     },
     "metadata": {},
     "output_type": "display_data"
    },
    {
     "data": {
      "application/vnd.jupyter.widget-view+json": {
       "model_id": "6548eff29289499c9eb36c8a213beed8",
       "version_major": 2,
       "version_minor": 0
      },
      "text/plain": [
       "Downloading:   0%|          | 0.00/56.6M [00:00<?, ?B/s]"
      ]
     },
     "metadata": {},
     "output_type": "display_data"
    },
    {
     "name": "stderr",
     "output_type": "stream",
     "text": [
      "GPU available: True, used: True\n",
      "INFO:lightning:GPU available: True, used: True\n",
      "TPU available: None, using: 0 TPU cores\n",
      "INFO:lightning:TPU available: None, using: 0 TPU cores\n",
      "LOCAL_RANK: 0 - CUDA_VISIBLE_DEVICES: [0,1,2,3]\n",
      "INFO:lightning:LOCAL_RANK: 0 - CUDA_VISIBLE_DEVICES: [0,1,2,3]\n",
      "/home/x1112283/.local/lib/python3.8/site-packages/pytorch_lightning/utilities/distributed.py:49: UserWarning: The dataloader, test dataloader 0, does not have many workers which may be a bottleneck. Consider increasing the value of the `num_workers` argument` (try 72 which is the number of cpus on this machine) in the `DataLoader` init to improve performance.\n",
      "  warnings.warn(*args, **kwargs)\n"
     ]
    },
    {
     "data": {
      "application/vnd.jupyter.widget-view+json": {
       "model_id": "f07515a700244b8584211cc0639b9761",
       "version_major": 2,
       "version_minor": 0
      },
      "text/plain": [
       "Testing: 0it [00:00, ?it/s]"
      ]
     },
     "metadata": {},
     "output_type": "display_data"
    },
    {
     "name": "stderr",
     "output_type": "stream",
     "text": [
      "/opt/conda/lib/python3.8/site-packages/torch/nn/parallel/_functions.py:68: UserWarning: Was asked to gather along dimension 0, but all input tensors were scalars; will instead unsqueeze and return a vector.\n",
      "  warnings.warn('Was asked to gather along dimension 0, but all '\n",
      "INFO:root:number of workers 1, data length 492750\n",
      "INFO:root:num_train_steps : 384960\n",
      "INFO:root:num_warmup_steps : 38496\n",
      "\n",
      "  | Name  | Type     | Params\n",
      "-----------------------------------\n",
      "0 | model | MLMModel | 14.1 M\n",
      "-----------------------------------\n",
      "14.1 M    Trainable params\n",
      "0         Non-trainable params\n",
      "14.1 M    Total params\n",
      "INFO:lightning:\n",
      "  | Name  | Type     | Params\n",
      "-----------------------------------\n",
      "0 | model | MLMModel | 14.1 M\n",
      "-----------------------------------\n",
      "14.1 M    Trainable params\n",
      "0         Non-trainable params\n",
      "14.1 M    Total params\n"
     ]
    },
    {
     "name": "stdout",
     "output_type": "stream",
     "text": [
      "--------------------------------------------------------------------------------\n",
      "DATALOADER:0 TEST RESULTS\n",
      "{'test_loss': tensor(8.3222, device='cuda:0')}\n",
      "--------------------------------------------------------------------------------\n"
     ]
    },
    {
     "name": "stderr",
     "output_type": "stream",
     "text": [
      "/home/x1112283/.local/lib/python3.8/site-packages/pytorch_lightning/utilities/distributed.py:49: UserWarning: The dataloader, val dataloader 0, does not have many workers which may be a bottleneck. Consider increasing the value of the `num_workers` argument` (try 72 which is the number of cpus on this machine) in the `DataLoader` init to improve performance.\n",
      "  warnings.warn(*args, **kwargs)\n"
     ]
    },
    {
     "data": {
      "application/vnd.jupyter.widget-view+json": {
       "model_id": "",
       "version_major": 2,
       "version_minor": 0
      },
      "text/plain": [
       "Validation sanity check: 0it [00:00, ?it/s]"
      ]
     },
     "metadata": {},
     "output_type": "display_data"
    },
    {
     "name": "stdout",
     "output_type": "stream",
     "text": [
      "epoch=-1, val_loss=8.107501983642578\n"
     ]
    },
    {
     "name": "stderr",
     "output_type": "stream",
     "text": [
      "/home/x1112283/.local/lib/python3.8/site-packages/pytorch_lightning/utilities/distributed.py:49: UserWarning: The dataloader, train dataloader, does not have many workers which may be a bottleneck. Consider increasing the value of the `num_workers` argument` (try 72 which is the number of cpus on this machine) in the `DataLoader` init to improve performance.\n",
      "  warnings.warn(*args, **kwargs)\n"
     ]
    },
    {
     "data": {
      "application/vnd.jupyter.widget-view+json": {
       "model_id": "3b17be1bbda04aa7a5da644bd9a5a059",
       "version_major": 2,
       "version_minor": 0
      },
      "text/plain": [
       "Training: 0it [00:00, ?it/s]"
      ]
     },
     "metadata": {},
     "output_type": "display_data"
    },
    {
     "data": {
      "application/vnd.jupyter.widget-view+json": {
       "model_id": "",
       "version_major": 2,
       "version_minor": 0
      },
      "text/plain": [
       "Validating: 0it [00:00, ?it/s]"
      ]
     },
     "metadata": {},
     "output_type": "display_data"
    },
    {
     "name": "stderr",
     "output_type": "stream",
     "text": [
      "Epoch 0, global step 481: val_loss reached 2.52314 (best 2.52314), saving model to \"/home/x1112283/logs_koelectra-small-v3-generator_seq_cnv_0.15_1234/model_chp/epoch=00-train_loss=3.107-val_loss=2.523.ckpt\" as top 10\n",
      "INFO:lightning:Epoch 0, global step 481: val_loss reached 2.52314 (best 2.52314), saving model to \"/home/x1112283/logs_koelectra-small-v3-generator_seq_cnv_0.15_1234/model_chp/epoch=00-train_loss=3.107-val_loss=2.523.ckpt\" as top 10\n"
     ]
    },
    {
     "name": "stdout",
     "output_type": "stream",
     "text": [
      "epoch=0, val_loss=2.5231428146362305\n"
     ]
    },
    {
     "data": {
      "application/vnd.jupyter.widget-view+json": {
       "model_id": "",
       "version_major": 2,
       "version_minor": 0
      },
      "text/plain": [
       "Validating: 0it [00:00, ?it/s]"
      ]
     },
     "metadata": {},
     "output_type": "display_data"
    },
    {
     "name": "stderr",
     "output_type": "stream",
     "text": [
      "Epoch 1, global step 963: val_loss reached 1.53115 (best 1.53115), saving model to \"/home/x1112283/logs_koelectra-small-v3-generator_seq_cnv_0.15_1234/model_chp/epoch=01-train_loss=1.659-val_loss=1.531.ckpt\" as top 10\n",
      "INFO:lightning:Epoch 1, global step 963: val_loss reached 1.53115 (best 1.53115), saving model to \"/home/x1112283/logs_koelectra-small-v3-generator_seq_cnv_0.15_1234/model_chp/epoch=01-train_loss=1.659-val_loss=1.531.ckpt\" as top 10\n"
     ]
    },
    {
     "name": "stdout",
     "output_type": "stream",
     "text": [
      "epoch=1, val_loss=1.53114914894104\n"
     ]
    },
    {
     "data": {
      "application/vnd.jupyter.widget-view+json": {
       "model_id": "",
       "version_major": 2,
       "version_minor": 0
      },
      "text/plain": [
       "Validating: 0it [00:00, ?it/s]"
      ]
     },
     "metadata": {},
     "output_type": "display_data"
    },
    {
     "name": "stderr",
     "output_type": "stream",
     "text": [
      "Epoch 2, global step 1445: val_loss reached 1.32911 (best 1.32911), saving model to \"/home/x1112283/logs_koelectra-small-v3-generator_seq_cnv_0.15_1234/model_chp/epoch=02-train_loss=1.458-val_loss=1.329.ckpt\" as top 10\n",
      "INFO:lightning:Epoch 2, global step 1445: val_loss reached 1.32911 (best 1.32911), saving model to \"/home/x1112283/logs_koelectra-small-v3-generator_seq_cnv_0.15_1234/model_chp/epoch=02-train_loss=1.458-val_loss=1.329.ckpt\" as top 10\n"
     ]
    },
    {
     "name": "stdout",
     "output_type": "stream",
     "text": [
      "epoch=2, val_loss=1.3291088342666626\n"
     ]
    },
    {
     "data": {
      "application/vnd.jupyter.widget-view+json": {
       "model_id": "",
       "version_major": 2,
       "version_minor": 0
      },
      "text/plain": [
       "Validating: 0it [00:00, ?it/s]"
      ]
     },
     "metadata": {},
     "output_type": "display_data"
    },
    {
     "name": "stderr",
     "output_type": "stream",
     "text": [
      "Epoch 3, global step 1927: val_loss reached 1.25852 (best 1.25852), saving model to \"/home/x1112283/logs_koelectra-small-v3-generator_seq_cnv_0.15_1234/model_chp/epoch=03-train_loss=1.020-val_loss=1.259.ckpt\" as top 10\n",
      "INFO:lightning:Epoch 3, global step 1927: val_loss reached 1.25852 (best 1.25852), saving model to \"/home/x1112283/logs_koelectra-small-v3-generator_seq_cnv_0.15_1234/model_chp/epoch=03-train_loss=1.020-val_loss=1.259.ckpt\" as top 10\n"
     ]
    },
    {
     "name": "stdout",
     "output_type": "stream",
     "text": [
      "epoch=3, val_loss=1.2585177421569824\n"
     ]
    },
    {
     "data": {
      "application/vnd.jupyter.widget-view+json": {
       "model_id": "",
       "version_major": 2,
       "version_minor": 0
      },
      "text/plain": [
       "Validating: 0it [00:00, ?it/s]"
      ]
     },
     "metadata": {},
     "output_type": "display_data"
    },
    {
     "name": "stderr",
     "output_type": "stream",
     "text": [
      "Epoch 4, global step 2409: val_loss reached 1.23289 (best 1.23289), saving model to \"/home/x1112283/logs_koelectra-small-v3-generator_seq_cnv_0.15_1234/model_chp/epoch=04-train_loss=1.320-val_loss=1.233.ckpt\" as top 10\n",
      "INFO:lightning:Epoch 4, global step 2409: val_loss reached 1.23289 (best 1.23289), saving model to \"/home/x1112283/logs_koelectra-small-v3-generator_seq_cnv_0.15_1234/model_chp/epoch=04-train_loss=1.320-val_loss=1.233.ckpt\" as top 10\n"
     ]
    },
    {
     "name": "stdout",
     "output_type": "stream",
     "text": [
      "epoch=4, val_loss=1.2328861951828003\n"
     ]
    },
    {
     "data": {
      "application/vnd.jupyter.widget-view+json": {
       "model_id": "",
       "version_major": 2,
       "version_minor": 0
      },
      "text/plain": [
       "Validating: 0it [00:00, ?it/s]"
      ]
     },
     "metadata": {},
     "output_type": "display_data"
    },
    {
     "name": "stderr",
     "output_type": "stream",
     "text": [
      "Epoch 5, global step 2891: val_loss reached 1.23535 (best 1.23289), saving model to \"/home/x1112283/logs_koelectra-small-v3-generator_seq_cnv_0.15_1234/model_chp/epoch=05-train_loss=1.021-val_loss=1.235.ckpt\" as top 10\n",
      "INFO:lightning:Epoch 5, global step 2891: val_loss reached 1.23535 (best 1.23289), saving model to \"/home/x1112283/logs_koelectra-small-v3-generator_seq_cnv_0.15_1234/model_chp/epoch=05-train_loss=1.021-val_loss=1.235.ckpt\" as top 10\n"
     ]
    },
    {
     "name": "stdout",
     "output_type": "stream",
     "text": [
      "epoch=5, val_loss=1.2353538274765015\n"
     ]
    },
    {
     "data": {
      "application/vnd.jupyter.widget-view+json": {
       "model_id": "",
       "version_major": 2,
       "version_minor": 0
      },
      "text/plain": [
       "Validating: 0it [00:00, ?it/s]"
      ]
     },
     "metadata": {},
     "output_type": "display_data"
    },
    {
     "name": "stderr",
     "output_type": "stream",
     "text": [
      "Epoch 6, global step 3373: val_loss reached 1.23210 (best 1.23210), saving model to \"/home/x1112283/logs_koelectra-small-v3-generator_seq_cnv_0.15_1234/model_chp/epoch=06-train_loss=1.111-val_loss=1.232.ckpt\" as top 10\n",
      "INFO:lightning:Epoch 6, global step 3373: val_loss reached 1.23210 (best 1.23210), saving model to \"/home/x1112283/logs_koelectra-small-v3-generator_seq_cnv_0.15_1234/model_chp/epoch=06-train_loss=1.111-val_loss=1.232.ckpt\" as top 10\n"
     ]
    },
    {
     "name": "stdout",
     "output_type": "stream",
     "text": [
      "epoch=6, val_loss=1.2320952415466309\n"
     ]
    },
    {
     "data": {
      "application/vnd.jupyter.widget-view+json": {
       "model_id": "",
       "version_major": 2,
       "version_minor": 0
      },
      "text/plain": [
       "Validating: 0it [00:00, ?it/s]"
      ]
     },
     "metadata": {},
     "output_type": "display_data"
    },
    {
     "name": "stderr",
     "output_type": "stream",
     "text": [
      "Epoch 7, global step 3855: val_loss reached 1.24889 (best 1.23210), saving model to \"/home/x1112283/logs_koelectra-small-v3-generator_seq_cnv_0.15_1234/model_chp/epoch=07-train_loss=1.038-val_loss=1.249.ckpt\" as top 10\n",
      "INFO:lightning:Epoch 7, global step 3855: val_loss reached 1.24889 (best 1.23210), saving model to \"/home/x1112283/logs_koelectra-small-v3-generator_seq_cnv_0.15_1234/model_chp/epoch=07-train_loss=1.038-val_loss=1.249.ckpt\" as top 10\n"
     ]
    },
    {
     "name": "stdout",
     "output_type": "stream",
     "text": [
      "epoch=7, val_loss=1.2488900423049927\n"
     ]
    },
    {
     "data": {
      "application/vnd.jupyter.widget-view+json": {
       "model_id": "",
       "version_major": 2,
       "version_minor": 0
      },
      "text/plain": [
       "Validating: 0it [00:00, ?it/s]"
      ]
     },
     "metadata": {},
     "output_type": "display_data"
    },
    {
     "name": "stderr",
     "output_type": "stream",
     "text": [
      "Epoch 8, global step 4337: val_loss reached 1.20341 (best 1.20341), saving model to \"/home/x1112283/logs_koelectra-small-v3-generator_seq_cnv_0.15_1234/model_chp/epoch=08-train_loss=0.868-val_loss=1.203.ckpt\" as top 10\n",
      "INFO:lightning:Epoch 8, global step 4337: val_loss reached 1.20341 (best 1.20341), saving model to \"/home/x1112283/logs_koelectra-small-v3-generator_seq_cnv_0.15_1234/model_chp/epoch=08-train_loss=0.868-val_loss=1.203.ckpt\" as top 10\n"
     ]
    },
    {
     "name": "stdout",
     "output_type": "stream",
     "text": [
      "epoch=8, val_loss=1.2034119367599487\n"
     ]
    },
    {
     "data": {
      "application/vnd.jupyter.widget-view+json": {
       "model_id": "",
       "version_major": 2,
       "version_minor": 0
      },
      "text/plain": [
       "Validating: 0it [00:00, ?it/s]"
      ]
     },
     "metadata": {},
     "output_type": "display_data"
    },
    {
     "name": "stderr",
     "output_type": "stream",
     "text": [
      "Epoch 9, global step 4819: val_loss reached 1.17164 (best 1.17164), saving model to \"/home/x1112283/logs_koelectra-small-v3-generator_seq_cnv_0.15_1234/model_chp/epoch=09-train_loss=0.901-val_loss=1.172.ckpt\" as top 10\n",
      "INFO:lightning:Epoch 9, global step 4819: val_loss reached 1.17164 (best 1.17164), saving model to \"/home/x1112283/logs_koelectra-small-v3-generator_seq_cnv_0.15_1234/model_chp/epoch=09-train_loss=0.901-val_loss=1.172.ckpt\" as top 10\n"
     ]
    },
    {
     "name": "stdout",
     "output_type": "stream",
     "text": [
      "epoch=9, val_loss=1.1716433763504028\n"
     ]
    },
    {
     "data": {
      "application/vnd.jupyter.widget-view+json": {
       "model_id": "",
       "version_major": 2,
       "version_minor": 0
      },
      "text/plain": [
       "Validating: 0it [00:00, ?it/s]"
      ]
     },
     "metadata": {},
     "output_type": "display_data"
    },
    {
     "name": "stderr",
     "output_type": "stream",
     "text": [
      "Epoch 10, global step 5301: val_loss reached 1.17486 (best 1.17164), saving model to \"/home/x1112283/logs_koelectra-small-v3-generator_seq_cnv_0.15_1234/model_chp/epoch=10-train_loss=0.795-val_loss=1.175.ckpt\" as top 10\n",
      "INFO:lightning:Epoch 10, global step 5301: val_loss reached 1.17486 (best 1.17164), saving model to \"/home/x1112283/logs_koelectra-small-v3-generator_seq_cnv_0.15_1234/model_chp/epoch=10-train_loss=0.795-val_loss=1.175.ckpt\" as top 10\n"
     ]
    },
    {
     "name": "stdout",
     "output_type": "stream",
     "text": [
      "epoch=10, val_loss=1.1748629808425903\n"
     ]
    },
    {
     "data": {
      "application/vnd.jupyter.widget-view+json": {
       "model_id": "",
       "version_major": 2,
       "version_minor": 0
      },
      "text/plain": [
       "Validating: 0it [00:00, ?it/s]"
      ]
     },
     "metadata": {},
     "output_type": "display_data"
    },
    {
     "name": "stderr",
     "output_type": "stream",
     "text": [
      "Epoch 11, global step 5783: val_loss reached 1.13862 (best 1.13862), saving model to \"/home/x1112283/logs_koelectra-small-v3-generator_seq_cnv_0.15_1234/model_chp/epoch=11-train_loss=0.709-val_loss=1.139.ckpt\" as top 10\n",
      "INFO:lightning:Epoch 11, global step 5783: val_loss reached 1.13862 (best 1.13862), saving model to \"/home/x1112283/logs_koelectra-small-v3-generator_seq_cnv_0.15_1234/model_chp/epoch=11-train_loss=0.709-val_loss=1.139.ckpt\" as top 10\n"
     ]
    },
    {
     "name": "stdout",
     "output_type": "stream",
     "text": [
      "epoch=11, val_loss=1.138619303703308\n"
     ]
    },
    {
     "data": {
      "application/vnd.jupyter.widget-view+json": {
       "model_id": "",
       "version_major": 2,
       "version_minor": 0
      },
      "text/plain": [
       "Validating: 0it [00:00, ?it/s]"
      ]
     },
     "metadata": {},
     "output_type": "display_data"
    },
    {
     "name": "stderr",
     "output_type": "stream",
     "text": [
      "Epoch 12, global step 6265: val_loss reached 1.22382 (best 1.13862), saving model to \"/home/x1112283/logs_koelectra-small-v3-generator_seq_cnv_0.15_1234/model_chp/epoch=12-train_loss=0.833-val_loss=1.224.ckpt\" as top 10\n",
      "INFO:lightning:Epoch 12, global step 6265: val_loss reached 1.22382 (best 1.13862), saving model to \"/home/x1112283/logs_koelectra-small-v3-generator_seq_cnv_0.15_1234/model_chp/epoch=12-train_loss=0.833-val_loss=1.224.ckpt\" as top 10\n"
     ]
    },
    {
     "name": "stdout",
     "output_type": "stream",
     "text": [
      "epoch=12, val_loss=1.223816156387329\n"
     ]
    },
    {
     "data": {
      "application/vnd.jupyter.widget-view+json": {
       "model_id": "",
       "version_major": 2,
       "version_minor": 0
      },
      "text/plain": [
       "Validating: 0it [00:00, ?it/s]"
      ]
     },
     "metadata": {},
     "output_type": "display_data"
    },
    {
     "name": "stderr",
     "output_type": "stream",
     "text": [
      "Epoch 13, global step 6747: val_loss reached 1.17642 (best 1.13862), saving model to \"/home/x1112283/logs_koelectra-small-v3-generator_seq_cnv_0.15_1234/model_chp/epoch=13-train_loss=0.744-val_loss=1.176.ckpt\" as top 10\n",
      "INFO:lightning:Epoch 13, global step 6747: val_loss reached 1.17642 (best 1.13862), saving model to \"/home/x1112283/logs_koelectra-small-v3-generator_seq_cnv_0.15_1234/model_chp/epoch=13-train_loss=0.744-val_loss=1.176.ckpt\" as top 10\n"
     ]
    },
    {
     "name": "stdout",
     "output_type": "stream",
     "text": [
      "epoch=13, val_loss=1.1764194965362549\n"
     ]
    },
    {
     "data": {
      "application/vnd.jupyter.widget-view+json": {
       "model_id": "",
       "version_major": 2,
       "version_minor": 0
      },
      "text/plain": [
       "Validating: 0it [00:00, ?it/s]"
      ]
     },
     "metadata": {},
     "output_type": "display_data"
    },
    {
     "name": "stderr",
     "output_type": "stream",
     "text": [
      "Epoch 14, global step 7229: val_loss reached 1.15963 (best 1.13862), saving model to \"/home/x1112283/logs_koelectra-small-v3-generator_seq_cnv_0.15_1234/model_chp/epoch=14-train_loss=0.882-val_loss=1.160.ckpt\" as top 10\n",
      "INFO:lightning:Epoch 14, global step 7229: val_loss reached 1.15963 (best 1.13862), saving model to \"/home/x1112283/logs_koelectra-small-v3-generator_seq_cnv_0.15_1234/model_chp/epoch=14-train_loss=0.882-val_loss=1.160.ckpt\" as top 10\n"
     ]
    },
    {
     "name": "stdout",
     "output_type": "stream",
     "text": [
      "epoch=14, val_loss=1.1596330404281616\n"
     ]
    },
    {
     "data": {
      "application/vnd.jupyter.widget-view+json": {
       "model_id": "",
       "version_major": 2,
       "version_minor": 0
      },
      "text/plain": [
       "Validating: 0it [00:00, ?it/s]"
      ]
     },
     "metadata": {},
     "output_type": "display_data"
    },
    {
     "name": "stderr",
     "output_type": "stream",
     "text": [
      "Epoch 15, global step 7711: val_loss reached 1.22001 (best 1.13862), saving model to \"/home/x1112283/logs_koelectra-small-v3-generator_seq_cnv_0.15_1234/model_chp/epoch=15-train_loss=0.856-val_loss=1.220.ckpt\" as top 10\n",
      "INFO:lightning:Epoch 15, global step 7711: val_loss reached 1.22001 (best 1.13862), saving model to \"/home/x1112283/logs_koelectra-small-v3-generator_seq_cnv_0.15_1234/model_chp/epoch=15-train_loss=0.856-val_loss=1.220.ckpt\" as top 10\n"
     ]
    },
    {
     "name": "stdout",
     "output_type": "stream",
     "text": [
      "epoch=15, val_loss=1.2200114727020264\n"
     ]
    },
    {
     "data": {
      "application/vnd.jupyter.widget-view+json": {
       "model_id": "",
       "version_major": 2,
       "version_minor": 0
      },
      "text/plain": [
       "Validating: 0it [00:00, ?it/s]"
      ]
     },
     "metadata": {},
     "output_type": "display_data"
    },
    {
     "name": "stderr",
     "output_type": "stream",
     "text": [
      "Epoch 16, global step 8193: val_loss reached 1.14969 (best 1.13862), saving model to \"/home/x1112283/logs_koelectra-small-v3-generator_seq_cnv_0.15_1234/model_chp/epoch=16-train_loss=0.788-val_loss=1.150.ckpt\" as top 10\n",
      "INFO:lightning:Epoch 16, global step 8193: val_loss reached 1.14969 (best 1.13862), saving model to \"/home/x1112283/logs_koelectra-small-v3-generator_seq_cnv_0.15_1234/model_chp/epoch=16-train_loss=0.788-val_loss=1.150.ckpt\" as top 10\n"
     ]
    },
    {
     "name": "stdout",
     "output_type": "stream",
     "text": [
      "epoch=16, val_loss=1.149693489074707\n"
     ]
    },
    {
     "data": {
      "application/vnd.jupyter.widget-view+json": {
       "model_id": "",
       "version_major": 2,
       "version_minor": 0
      },
      "text/plain": [
       "Validating: 0it [00:00, ?it/s]"
      ]
     },
     "metadata": {},
     "output_type": "display_data"
    },
    {
     "name": "stderr",
     "output_type": "stream",
     "text": [
      "Epoch 17, global step 8675: val_loss reached 1.15189 (best 1.13862), saving model to \"/home/x1112283/logs_koelectra-small-v3-generator_seq_cnv_0.15_1234/model_chp/epoch=17-train_loss=0.746-val_loss=1.152.ckpt\" as top 10\n",
      "INFO:lightning:Epoch 17, global step 8675: val_loss reached 1.15189 (best 1.13862), saving model to \"/home/x1112283/logs_koelectra-small-v3-generator_seq_cnv_0.15_1234/model_chp/epoch=17-train_loss=0.746-val_loss=1.152.ckpt\" as top 10\n"
     ]
    },
    {
     "name": "stdout",
     "output_type": "stream",
     "text": [
      "epoch=17, val_loss=1.151894450187683\n"
     ]
    }
   ],
   "source": [
    "%%time\n",
    "\n",
    "import os\n",
    "from pretraining_bert import *\n",
    "from skt.vault_utils import get_secrets\n",
    "\n",
    "user = os.environ['USER']\n",
    "proxy = get_secrets(\"proxy\")[\"proxy\"]\n",
    "os.environ['HTTP_PROXY'] = proxy\n",
    "os.environ['HTTPS_PROXY'] = proxy\n",
    "os.environ[\"TOKENIZERS_PARALLELISM\"] = \"false\"\n",
    "\n",
    "dict_args = {\n",
    "    'auto_lr_find': True,\n",
    "    'gradient_clip_val': 1.0,\n",
    "    'accelerator': 'dp',\n",
    "    'strategy': 'dp',\n",
    "    'amp_backend': 'apex', \n",
    "    'amp_level': 'O2',\n",
    "    'accumulate_grad_batches': 8,\n",
    "    \n",
    "    'seed': 1234, \n",
    "    'model_name_or_path': \"monologg/koelectra-small-v3-generator\",\n",
    "    \n",
    "    'workers': 2,\n",
    "    'max_length': 32,\n",
    "    'batch_size': 128,\n",
    "    'max_epochs': 100,\n",
    "    \n",
    "    #'gpus': -1,\n",
    "    'gpu_list': '0;1', \n",
    "    'target': 'seq_cnv', \n",
    "    'train_file': 'train_bert_data/train_7days.csv',\n",
    "    'val_file': 'train_bert_data/val_7days.csv',\n",
    "    'test_file': 'train_bert_data/test_7days.csv',\n",
    "    'mlm_probability': 0.15,\n",
    "}\n",
    "pretrain(dict_args)"
   ]
  },
  {
   "cell_type": "code",
   "execution_count": null,
   "id": "16356aa7-5bc4-423b-a899-242d0f467674",
   "metadata": {},
   "outputs": [],
   "source": [
    "evaluate_models(f'/home/{user}/logs_{dict_args[\"model_name_or_path\"].split(\"/\")[-1]}_{dict_args[\"target\"]}_{dict_args[\"mlm_probability\"]}_{dict_args[\"seed\"]}')"
   ]
  },
  {
   "cell_type": "code",
   "execution_count": null,
   "id": "29aeb3a2-14e9-4acc-b63c-d49180e9785c",
   "metadata": {},
   "outputs": [],
   "source": []
  }
 ],
 "metadata": {
  "kernelspec": {
   "display_name": "Python 3 (ipykernel)",
   "language": "python",
   "name": "python3"
  },
  "language_info": {
   "codemirror_mode": {
    "name": "ipython",
    "version": 3
   },
   "file_extension": ".py",
   "mimetype": "text/x-python",
   "name": "python",
   "nbconvert_exporter": "python",
   "pygments_lexer": "ipython3",
   "version": "3.8.12"
  }
 },
 "nbformat": 4,
 "nbformat_minor": 5
}
